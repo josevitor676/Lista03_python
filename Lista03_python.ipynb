{
  "nbformat": 4,
  "nbformat_minor": 0,
  "metadata": {
    "colab": {
      "provenance": [],
      "authorship_tag": "ABX9TyNavVD40AEvK8MkJm1pdOKm",
      "include_colab_link": true
    },
    "kernelspec": {
      "name": "python3",
      "display_name": "Python 3"
    },
    "language_info": {
      "name": "python"
    }
  },
  "cells": [
    {
      "cell_type": "markdown",
      "metadata": {
        "id": "view-in-github",
        "colab_type": "text"
      },
      "source": [
        "<a href=\"https://colab.research.google.com/github/josevitor676/Lista03_python/blob/main/Lista03_python.ipynb\" target=\"_parent\"><img src=\"https://colab.research.google.com/assets/colab-badge.svg\" alt=\"Open In Colab\"/></a>"
      ]
    },
    {
      "cell_type": "markdown",
      "source": [
        "####81. CRIE UMA FUNÇÃO QUE ACEITA DOIS ARGUMENTOS (NOME E IDADE) E IMPRIMIR SEU VALOR.\n"
      ],
      "metadata": {
        "id": "iMzQO7P3jv4F"
      }
    },
    {
      "cell_type": "code",
      "execution_count": null,
      "metadata": {
        "id": "S-9LmpqIgpIp"
      },
      "outputs": [],
      "source": [
        "def name_age(name, age):\n",
        "  return print(f'Nome: {name} Idade: {str(age)} anos')\n"
      ]
    },
    {
      "cell_type": "code",
      "source": [
        "name_age('jose vitor da silva santos', 20)"
      ],
      "metadata": {
        "id": "fSr8HBJjkCNs"
      },
      "execution_count": null,
      "outputs": []
    },
    {
      "cell_type": "markdown",
      "source": [
        "####82. ESCREVA UMA FUNÇÃO DE FORMA QUE ELA POSSA ACEITAR UM TAMANHO VARIÁVEL DE ARGUMENTO E IMPRIMIR TODOS OS VALORES DOS ARGUMENTOS.\n"
      ],
      "metadata": {
        "id": "3TerltFjkM4P"
      }
    },
    {
      "cell_type": "code",
      "source": [
        "def argumentos(*params):\n",
        "  for i in params:\n",
        "    print(i)"
      ],
      "metadata": {
        "id": "IZu7a_g1kQp8"
      },
      "execution_count": null,
      "outputs": []
    },
    {
      "cell_type": "code",
      "source": [
        "argumentos(1,2,3,4,\"jose\",\"vitor\",\"santos\")"
      ],
      "metadata": {
        "id": "4pHncjtekfvU"
      },
      "execution_count": null,
      "outputs": []
    },
    {
      "cell_type": "markdown",
      "source": [
        "####83. ESCREVA UMA FUNÇÃO QUE POSSA ACEITAR DUAS VARIÁVEIS E CALCULE A ADIÇÃO E SUBTRAÇÃO DELAS. E DEVE RETORNAR ADIÇÃO E SUBTRAÇÃO EM UMA ÚNICA CHAMADA DE RETORNE"
      ],
      "metadata": {
        "id": "jHBxgEFEkoMF"
      }
    },
    {
      "cell_type": "code",
      "source": [
        "def soma_substracao(num1, num2):\n",
        "  soma = num1 + num2\n",
        "  sub  = num1 - num2\n",
        "  return print(f'A soma dos dois numeros é {soma} e a subtração é {sub}')"
      ],
      "metadata": {
        "id": "F-kEDklBkscl"
      },
      "execution_count": null,
      "outputs": []
    },
    {
      "cell_type": "code",
      "source": [
        "soma_substracao(7,5)"
      ],
      "metadata": {
        "id": "bqsx7lwGlJB0"
      },
      "execution_count": null,
      "outputs": []
    },
    {
      "cell_type": "markdown",
      "source": [
        "####84. CRIE UMA FUNÇÃO QUE ACEITE O NOME DO FUNCIONÁRIO E SEU SALÁRIO E EXIBA AMBOS. SE O SALÁRIO ESTIVER FALTANDO NA CHAMADA DE FUNÇÃO, ATRIBUA O VALOR PADRÃO 1000 AO SALÁRIO."
      ],
      "metadata": {
        "id": "FSWXt_05lO40"
      }
    },
    {
      "cell_type": "code",
      "source": [
        "def nomeFun_salario(funNome, sal = 1000):\n",
        "  return print(f'Nome do Funcionario: {funNome} e salario: {sal}')\n"
      ],
      "metadata": {
        "id": "_J1fDqRblSVW"
      },
      "execution_count": null,
      "outputs": []
    },
    {
      "cell_type": "code",
      "source": [
        "nomeFun_salario('jose',5000)"
      ],
      "metadata": {
        "id": "TvsFKpRoln6e"
      },
      "execution_count": null,
      "outputs": []
    },
    {
      "cell_type": "markdown",
      "source": [
        "####85. ESCREVA UMA FUNÇÃO RECURSIVA PARA CALCULAR A SOMA DOS NÚMEROS DE 0 A 10\n"
      ],
      "metadata": {
        "id": "CtSYBrIDls_V"
      }
    },
    {
      "cell_type": "code",
      "source": [
        "def um_ao_dez():\n",
        "  numeros = []\n",
        "  for i in range(1,11):\n",
        "     numeros.append(i)\n",
        "  return numeros"
      ],
      "metadata": {
        "id": "KSImwCKOlw2W"
      },
      "execution_count": null,
      "outputs": []
    },
    {
      "cell_type": "code",
      "source": [
        "def soma_numeros(numeros):\n",
        "  return sum(numeros)\n"
      ],
      "metadata": {
        "id": "V8YExRejmOeu"
      },
      "execution_count": null,
      "outputs": []
    },
    {
      "cell_type": "code",
      "source": [
        "def soma_numeros_for(lista):\n",
        "  total = 0\n",
        "  for i in lista:\n",
        "    total += i\n",
        "  return total"
      ],
      "metadata": {
        "id": "yZHw1tRGmxVt"
      },
      "execution_count": null,
      "outputs": []
    },
    {
      "cell_type": "code",
      "source": [
        "soma_numeros_for(um_ao_dez())\n",
        "soma_numeros(um_ao_dez())"
      ],
      "metadata": {
        "id": "nkGBsCVVnJaX"
      },
      "execution_count": null,
      "outputs": []
    },
    {
      "cell_type": "markdown",
      "source": [
        "####86. ESCREVA UMA FUNÇÃO E QUANDO FOR USÁ- LA CHAME POR UM NOVO NOME."
      ],
      "metadata": {
        "id": "GJ-GPxKrnTtA"
      }
    },
    {
      "cell_type": "code",
      "source": [
        "def printNome(nome):\n",
        "  return nome"
      ],
      "metadata": {
        "id": "yEFNbQpenYPh"
      },
      "execution_count": null,
      "outputs": []
    },
    {
      "cell_type": "code",
      "source": [
        "mostrarNome = printNome('Jose')\n",
        "print(mostrarNome)"
      ],
      "metadata": {
        "id": "a9mU9DYJoERl"
      },
      "execution_count": null,
      "outputs": []
    },
    {
      "cell_type": "markdown",
      "source": [
        "####87. CRIE UMA FUNÇÃO QUE RECEBE COMO PARÂMETRO UM NÚMERO INTEIRO E DEVOLVE O SEU DOBRO.\n"
      ],
      "metadata": {
        "id": "aIiFL1w6oVN-"
      }
    },
    {
      "cell_type": "code",
      "source": [
        "def dobro(num):\n",
        "  return num * 2"
      ],
      "metadata": {
        "id": "UI39DITYoYb2"
      },
      "execution_count": null,
      "outputs": []
    },
    {
      "cell_type": "code",
      "source": [
        "dobro(5)"
      ],
      "metadata": {
        "id": "9CSQhPFIoex-"
      },
      "execution_count": null,
      "outputs": []
    },
    {
      "cell_type": "markdown",
      "source": [
        "####88. FAÇA UMA FUNÇÃO PARA VERIFICAR SE UM NÚMERO É POSITIVO OU NEGATIVO. SENDO QUE O VALOR DE RETORNO SERA 1 SE POSITIVO, - 1 SE NEGATIVO E 0 SE FOR IGUAL A 0."
      ],
      "metadata": {
        "id": "-J5wfWEpoiM_"
      }
    },
    {
      "cell_type": "code",
      "source": [
        "def verificar_numero(num):\n",
        "  if num < 0:\n",
        "    return -1\n",
        "  elif num > 0:\n",
        "    return 1\n",
        "  elif num == 0:\n",
        "    return 0\n"
      ],
      "metadata": {
        "id": "HcBQt5hNomo9"
      },
      "execution_count": null,
      "outputs": []
    },
    {
      "cell_type": "code",
      "source": [
        "verificar_numero(597)"
      ],
      "metadata": {
        "id": "lqnUPA2fpKue"
      },
      "execution_count": null,
      "outputs": []
    },
    {
      "cell_type": "markdown",
      "source": [
        "####89. FAÇA UMA FUNÇÃO QUE RECEBA DOIS NÚMEROS E RETORNE QUAL DELES É O MAIOR."
      ],
      "metadata": {
        "id": "HagXiQprpS1-"
      }
    },
    {
      "cell_type": "code",
      "source": [
        "def maior_numero(num1, num2):\n",
        "  if num1 > num2:\n",
        "    return f'{num1} maior que {num2}'\n",
        "  elif num1 < num2:\n",
        "    return f'{num2} maior que {num1}'\n",
        "  elif num1 == num2:\n",
        "    return f'{num2} é igual {num1}'"
      ],
      "metadata": {
        "id": "OAlOQGZIpWYg"
      },
      "execution_count": null,
      "outputs": []
    },
    {
      "cell_type": "code",
      "source": [
        "maior_numero(65,64)"
      ],
      "metadata": {
        "id": "Auh2-UGbpz0f"
      },
      "execution_count": null,
      "outputs": []
    },
    {
      "cell_type": "markdown",
      "source": [
        "####90. ELABORE UMA FUNÇÃOO QUE RECEBA TRÊS NOTAS DE UM ALUNO COMO PARÂMETROS E UMA LETRA. SE A LETRA FOR A, A FUNÇÃO DEVERÁ CALCULAR A MÉDIA ARITMÉTICA DAS NOTAS DO ALUNO; SE FOR P, DEVERÁ CALCULAR A MÉDIA PONDERADA, COM PESOS 5, 3 E 2.\n"
      ],
      "metadata": {
        "id": "mcyG8K85p_Qg"
      }
    },
    {
      "cell_type": "code",
      "source": [
        "def media_ponderada(nota1, nota2, nota3, letra):\n",
        "  if letra == 'A' or letra == 'a':\n",
        "    soma = nota1 + nota2 + nota3\n",
        "    media = soma / 3\n",
        "    return f'A media do aluno é: {round(media,2)}'\n",
        "  elif letra == 'P' or letra == 'p':\n",
        "    somaPonderada = (nota1 * 5) + (nota2 * 3) + (nota3 * 2)\n",
        "    mediaPonderada = somaPonderada / (5 + 3 + 2)\n",
        "    return f'A media ponderada do aluno é: {round(mediaPonderada, 2)}'"
      ],
      "metadata": {
        "id": "keZo40IFp-Z4"
      },
      "execution_count": null,
      "outputs": []
    },
    {
      "cell_type": "code",
      "source": [
        "media_ponderada(7, 6, 10, 'P')"
      ],
      "metadata": {
        "id": "kDbAnzjtrsgA"
      },
      "execution_count": null,
      "outputs": []
    },
    {
      "cell_type": "markdown",
      "source": [
        "####91. FAÇA UMA FUNÇÃO QUE RECEBA DOIS NÚMEROS INTEIROS POSITIVOS POR PARÂMETRO E RETORNE A SOMA DOS N NUMEROS INTEIROS EXISTENTES ENTRE ELES.\n",
        "\n"
      ],
      "metadata": {
        "id": "8a1DGeHdsoGJ"
      }
    },
    {
      "cell_type": "code",
      "source": [
        "def soma_entre_numeros(num1, num2):\n",
        "  soma = 0\n",
        "  if num1 < num2:\n",
        "    for i in range(num1, num2 +1):\n",
        "      soma += i\n",
        "    return f'A soma dos numeros entre {num1} {num2} é {soma}'\n",
        "  elif num1 > num2:\n",
        "    for i in range(num2, num1 +1):\n",
        "      soma += i\n",
        "    return f'A soma dos numeros entre {num2} {num1} é {soma}'"
      ],
      "metadata": {
        "id": "fNoiX__es7LI"
      },
      "execution_count": null,
      "outputs": []
    },
    {
      "cell_type": "code",
      "source": [
        "soma_entre_numeros(12,10)"
      ],
      "metadata": {
        "id": "KW_7Fp1ctppo"
      },
      "execution_count": null,
      "outputs": []
    },
    {
      "cell_type": "markdown",
      "source": [
        "####92. FAÇA UMA FUNÇÃO QUE RECEBA A ALTURA E O RAIO DE UM CILINDRO CIRCULAR E RETORNE O VOLUME DO CILINDRO. "
      ],
      "metadata": {
        "id": "YLTcgIUXuO1p"
      }
    },
    {
      "cell_type": "code",
      "source": [
        "def volume_cilindro(altura, raio):\n",
        "  volume = (raio ** 2) * altura \n",
        "  return f'O volume do cilindro é {volume}pi cm cubicos'"
      ],
      "metadata": {
        "id": "f5IFN9D1uS7Z"
      },
      "execution_count": null,
      "outputs": []
    },
    {
      "cell_type": "code",
      "source": [
        "volume_cilindro(20,10)"
      ],
      "metadata": {
        "id": "alT0lC3VvmET"
      },
      "execution_count": null,
      "outputs": []
    },
    {
      "cell_type": "markdown",
      "source": [
        "####93. ESCREVA UMA FUNÇÃO QUE RECEBE UM NÚMERO REAL COMO ARGUMENTO E RETORNA O VALOR ABSOLUTO DESSE NÚMERO.\n"
      ],
      "metadata": {
        "id": "07HaCuK5vxno"
      }
    },
    {
      "cell_type": "code",
      "source": [
        "def converterNumero(numReal):\n",
        "  return abs(numReal)"
      ],
      "metadata": {
        "id": "nygbSTd-v3ap"
      },
      "execution_count": null,
      "outputs": []
    },
    {
      "cell_type": "code",
      "source": [
        "converterNumero(-9)"
      ],
      "metadata": {
        "id": "SB9d_nI2wJGx"
      },
      "execution_count": null,
      "outputs": []
    },
    {
      "cell_type": "markdown",
      "source": [
        "####94. ESCREVA UMA FUNÇÃO QUE RECEBA DOIS NÚMERO INTEIRO (N E P) COMO ARGUMENTO E RETORNA N ELEVADO A P SE N FOR MAIOR QUE P , CASO CONTRÁRIO RETORNE A RAIZ QUADRADA DE N. "
      ],
      "metadata": {
        "id": "ErF6tvxAwUIo"
      }
    },
    {
      "cell_type": "code",
      "source": [
        "def numero_ao_Quadrado(n, p):\n",
        "  if n > p:\n",
        "    return n ** p\n",
        "  elif n < p:\n",
        "    return float(n) ** 0.5\n"
      ],
      "metadata": {
        "id": "yKEfoa7hwa5h"
      },
      "execution_count": null,
      "outputs": []
    },
    {
      "cell_type": "code",
      "source": [
        "numero_ao_Quadrado(9,30)"
      ],
      "metadata": {
        "id": "ZD_zu91PxX8m"
      },
      "execution_count": null,
      "outputs": []
    },
    {
      "cell_type": "markdown",
      "source": [
        "####95. ESCREVA UMA FUNÇÃO PARA SOMAR TODOS OS NÚMEROS EM UMA LISTA."
      ],
      "metadata": {
        "id": "nB6eEytpxn4C"
      }
    },
    {
      "cell_type": "code",
      "source": [
        "def soma_lista(lista):\n",
        "  soma = 0\n",
        "  for i in lista:\n",
        "    soma += i\n",
        "  return f'A soma de todos os numeros da lista é {soma}'"
      ],
      "metadata": {
        "id": "H1NFq1ZwxrCQ"
      },
      "execution_count": null,
      "outputs": []
    },
    {
      "cell_type": "code",
      "source": [
        "numeros = [4,5,6,10,20,56,27]\n",
        "soma_lista(numeros)"
      ],
      "metadata": {
        "id": "uPljOq3Ix6WC"
      },
      "execution_count": null,
      "outputs": []
    },
    {
      "cell_type": "markdown",
      "source": [
        "####96. ESCREVA UMA FUNÇÃO PARA MULTIPLICAR TODOS OS NÚMEROS EM UMA LISTA."
      ],
      "metadata": {
        "id": "eRQ4jddQyRrh"
      }
    },
    {
      "cell_type": "code",
      "source": [
        "def mult_lista(lista):\n",
        "  mult = 1\n",
        "  for i in lista:\n",
        "    mult *= i\n",
        "  return f'A multiplicação de todos os numeros da lista é {mult}'"
      ],
      "metadata": {
        "id": "_Np0p0UpyVKw"
      },
      "execution_count": null,
      "outputs": []
    },
    {
      "cell_type": "code",
      "source": [
        "multiplicar = [1,2,3,10,5]\n",
        "mult_lista(multiplicar)"
      ],
      "metadata": {
        "id": "8DhS1OMeyhHa"
      },
      "execution_count": null,
      "outputs": []
    },
    {
      "cell_type": "markdown",
      "source": [
        "####97. ESCREVA UMA FUNÇÃO PARA VERIFICAR SE UM NÚMERO ESTÁ EM UM DETERMINADO INTERVALO.\n"
      ],
      "metadata": {
        "id": "leMjPkCLyvii"
      }
    },
    {
      "cell_type": "code",
      "source": [
        "def verificar_intevalo(num):\n",
        "  lista = []\n",
        "  for i in range(1,11):\n",
        "    lista.append(i)\n",
        "  if num in lista:\n",
        "    return f'O numero {num} esta no intervalo'\n",
        "  else:\n",
        "    return f'O numero não esta no intervalo'"
      ],
      "metadata": {
        "id": "Oj8uz-aEyyqB"
      },
      "execution_count": null,
      "outputs": []
    },
    {
      "cell_type": "code",
      "source": [
        "verificar_intevalo(1)"
      ],
      "metadata": {
        "id": "Vgg3xZf1ze2j"
      },
      "execution_count": null,
      "outputs": []
    },
    {
      "cell_type": "markdown",
      "source": [
        "####98. ESCREVA UM PROGRAMA PARA IMPRIMIR OS NÚMEROS PARES DE UMA DETERMINADA LISTA."
      ],
      "metadata": {
        "id": "b44uRE_CLsIT"
      }
    },
    {
      "cell_type": "code",
      "source": [
        "def imprimir_pares(lista):\n",
        "  for num in lista:\n",
        "    if num % 2 == 0:\n",
        "      print(num)"
      ],
      "metadata": {
        "id": "4ZYs-ooILwIM"
      },
      "execution_count": 10,
      "outputs": []
    },
    {
      "cell_type": "code",
      "source": [
        "numeros = [1,2,3,4,5,6,7,8,9,10,11,12,13,14]\n",
        "imprimir_pares(numeros)"
      ],
      "metadata": {
        "id": "ujKwokj8L-oa"
      },
      "execution_count": null,
      "outputs": []
    },
    {
      "cell_type": "markdown",
      "source": [
        "####99. ESCREVA UMA FUNÇÃO PARA CRIAR E IMPRIMIR UMA LISTA ONDE OS VALORES SÃO QUADRADOS DE NÚMEROS ENTRE 1 E 30 (AMBOS INCLUÍDOS).\n"
      ],
      "metadata": {
        "id": "0A8AiCT1MKOL"
      }
    },
    {
      "cell_type": "code",
      "source": [
        "def create_print():\n",
        "  lista = []\n",
        "  for i in range(1, 31):\n",
        "    lista.append(i ** 2)\n",
        "  print(lista)"
      ],
      "metadata": {
        "id": "9uU8o5ENMOlq"
      },
      "execution_count": 17,
      "outputs": []
    },
    {
      "cell_type": "code",
      "source": [
        "create_print()"
      ],
      "metadata": {
        "id": "3Z51aeP6MfRb"
      },
      "execution_count": null,
      "outputs": []
    },
    {
      "cell_type": "markdown",
      "source": [
        "####100. ESCREVA UM PROGRAMA PARA DETECTAR O NÚMERO DE VARIÁVEIS LOCAIS DECLARADAS EM UMA FUNÇÃO."
      ],
      "metadata": {
        "id": "MOBhmUdOLCsi"
      }
    },
    {
      "cell_type": "code",
      "source": [
        "def qtd_var():\n",
        "  x = 'jose'\n",
        "  z = 'vitor'\n",
        "  y = 'santos'\n",
        "  total = 0 \n",
        "  for i in locals():\n",
        "    total += 1\n",
        "  print(f'Quantidade de variaveis é {total}')"
      ],
      "metadata": {
        "id": "fmQ5CXUALG8q"
      },
      "execution_count": 8,
      "outputs": []
    },
    {
      "cell_type": "code",
      "source": [
        "qtd_var()"
      ],
      "metadata": {
        "id": "VdVr-sqxLV_K",
        "outputId": "ce9f181e-cd31-4427-a3ba-d2a8ba71d28c",
        "colab": {
          "base_uri": "https://localhost:8080/"
        }
      },
      "execution_count": 9,
      "outputs": [
        {
          "output_type": "stream",
          "name": "stdout",
          "text": [
            "Quantidade de variaveis é 4\n"
          ]
        }
      ]
    }
  ]
}